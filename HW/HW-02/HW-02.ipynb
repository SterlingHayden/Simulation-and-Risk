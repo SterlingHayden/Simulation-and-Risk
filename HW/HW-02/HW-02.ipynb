{
 "cells": [
  {
   "cell_type": "code",
   "execution_count": 18,
   "metadata": {},
   "outputs": [],
   "source": [
    "import pandas as pd\n",
    "import numpy as np\n",
    "import scipy as sp\n",
    "import seaborn as sns\n",
    "import matplotlib.pyplot as plt\n",
    "\n",
    "\n",
    "np.random.seed(88)"
   ]
  },
  {
   "cell_type": "markdown",
   "metadata": {},
   "source": [
    "\n",
    " \n",
    "\n",
    "\n",
    "\n",
    "\n"
   ]
  },
  {
   "cell_type": "markdown",
   "metadata": {},
   "source": [
    "### Year 0 Expenses\n",
    "- **Seismic and Lease Costs**: These depend on the number of wells. Leased acres per well follow a normal distribution (mean = 600, SD = 50), with a price of $960 per acre. Seismic sections per well also follow a normal distribution (mean = 3, SD = 0.35), costing $43,000 per section.\n",
    "- **Completion Costs**: If the well is not dry, preparation for oil production incurs a normally distributed cost (mean = $390,000, SD = $50,000).\n",
    "- **Professional Overhead**: Project team salary and benefits per well follow a triangular distribution (min = $172,000, most likely = $215,000, max = $279,500). These costs apply during Year 0 but cease if the well is dry."
   ]
  },
  {
   "cell_type": "markdown",
   "metadata": {},
   "source": [
    "The following code represents the year 0 expense for a **wet** well:"
   ]
  },
  {
   "cell_type": "code",
   "execution_count": null,
   "metadata": {},
   "outputs": [],
   "source": [
    "total_cost_wet = []\n",
    "for i in range(10000):\n",
    "    # Seismic and Lease Costs\n",
    "    leased = np.random.normal(loc = 600, scale = 50)\n",
    "    seismic = np.random.normal(loc = 3, scale = .35)\n",
    "\n",
    "    # Completion Costs\n",
    "    completion = np.random.normal(loc = 390000, scale = 50000)\n",
    "\n",
    "    # Professional Overhead\n",
    "    overhead = np.random.triangular(left = 172000, mode = 215000, right = 279500)\n",
    "\n",
    "    # Total Costs\n",
    "    total_cost_wet.append( (leased*960) + (seismic*43000) + completion + overhead )\n"
   ]
  },
  {
   "cell_type": "markdown",
   "metadata": {},
   "source": [
    "The following code represents the year 0 expense for a **dry** well:"
   ]
  },
  {
   "cell_type": "code",
   "execution_count": null,
   "metadata": {},
   "outputs": [],
   "source": [
    "total_cost_dry = []\n",
    "for i in range(10000):\n",
    "    # Seismic and Lease Costs\n",
    "    leased = np.random.normal(loc = 3, scale = .35)\n",
    "    seismic = np.random.normal(loc = 600, scale = 50)\n",
    "\n",
    "    # Professional Overhead\n",
    "    overhead = np.random.triangular(left = 172000, mode = 215000, right = 279500)\n",
    "\n",
    "    # Total Costs\n",
    "    total_cost_dry.append( (leased*960) + (seismic*43000) + overhead )"
   ]
  },
  {
   "cell_type": "markdown",
   "metadata": {},
   "source": [
    "### Production Risk\n",
    "- **Initial Production**: The starting production rate in Year 1, following a Lognormal distribution (mean = 420 BOPD, SD = 120 BOPD), with an underlying Normal distribution (mean = 6, SD = 0.28).\n",
    "- **Decline Rate**: The annual percentage decrease in production, uniformly distributed between 15% and 32%, remaining constant for each well's lifespan.\n",
    "- A correlation coefficient of 0.64 is imposed between initial production & decline rate in the simulation.\n",
    "\n",
    "Production rates in BOPD for our model are calculated by:   \n",
    "$$\n",
    "\\text{New Rate} = (1 - \\text{Decline Rate}) \\times \\text{Previous Rate}\n",
    "$$\n",
    "Yearly production volumes in barrels of oil are approximated as:   \n",
    "$$\n",
    "\\text{Oil Volume} = \\frac{365 \\times (\\text{Rate}_{\\text{start}} + \\text{Rate}_{\\text{end}})}{2}\n",
    "$$"
   ]
  },
  {
   "cell_type": "code",
   "execution_count": 33,
   "metadata": {},
   "outputs": [],
   "source": [
    "# Initial Production\n",
    "init_production = np.random.lognormal(mean = 6, sigma = .28, size=10000)  #I'm pretty sure this is wrong but idk how to incorportate the underlying normal dist.\n",
    "\n",
    "# Decline Rate\n",
    "decline_rate = np.random.uniform(low = .15, high = .32, size=10000)\n",
    "\n",
    "# New Rate\n",
    "new_rate = (1 - decline_rate) * init_production\n",
    "\n",
    "R = np.array([[1, .64], [.64, 1]])\n",
    "U = sp.linalg.cholesky(R, lower = False)\n",
    "both = np.column_stack((init_production, decline_rate))\n",
    "X1X2 = U @ both.T\n",
    "X1X2 = np.transpose(X1X2)\n",
    "\n",
    "\n",
    "# Oil Volume\n",
    "# oil_volume = 365 * ()\n"
   ]
  },
  {
   "cell_type": "markdown",
   "metadata": {},
   "source": [
    "### Revenue Risk\n",
    "- **Net Revenue Interest**: The company retains a portion of revenue after royalties, modeled as a Normal distribution (mean 75%, SD 2%) per well."
   ]
  },
  {
   "cell_type": "markdown",
   "metadata": {},
   "source": [
    "### Operating Expenses\n",
    "- **Operating Costs**: Expenses for manpower and hardware are modeled as a Normal distribution with a mean of $2.25 per barrel (SD $0.30). Costs are the same for all wells in a given year but vary annually.\n",
    "- **Severance Taxes**: A fixed 4.6% tax on revenue, applied after the NRI."
   ]
  },
  {
   "cell_type": "markdown",
   "metadata": {},
   "source": [
    "### Net Present Value Calculation\n",
    "NPV is computed by summing all revenues and expenses per year, discounted at a 10% WACC, and subtracting initial costs. The formula used is:\n",
    "$$\n",
    "\\text{NPV} = -\\text{Initial Costs} + \\frac{\\text{FNR}_{\\text{year 1}} }{1 + \\text{WACC}} + \\frac{\\text{FNR}_{\\text{year 2}} }{(1 + \\text{WACC})^2} + ... + \\frac{\\text{FNR}_{\\text{year 15}} }{(1 + \\text{WACC})^{15}}\n",
    "$$\n",
    "Where FNR is the final net revenues during the specified year."
   ]
  }
 ],
 "metadata": {
  "kernelspec": {
   "display_name": "ds",
   "language": "python",
   "name": "python3"
  },
  "language_info": {
   "codemirror_mode": {
    "name": "ipython",
    "version": 3
   },
   "file_extension": ".py",
   "mimetype": "text/x-python",
   "name": "python",
   "nbconvert_exporter": "python",
   "pygments_lexer": "ipython3",
   "version": "3.12.3"
  }
 },
 "nbformat": 4,
 "nbformat_minor": 2
}
