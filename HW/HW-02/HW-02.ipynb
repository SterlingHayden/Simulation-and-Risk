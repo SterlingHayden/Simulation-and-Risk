{
 "cells": [
  {
   "cell_type": "code",
   "execution_count": 1,
   "metadata": {},
   "outputs": [],
   "source": [
    "import pandas as pd"
   ]
  },
  {
   "cell_type": "markdown",
   "metadata": {},
   "source": [
    "### Year 0 Expenses\n",
    "- **Seismic and Lease Costs**: These depend on the number of wells. Leased acres per well follow a normal distribution (mean = 600, SD = 50), with a price of $960 per acre. Seismic sections per well also follow a normal distribution (mean = 3, SD = 0.35), costing $43,000 per section.\n",
    "- **Completion Costs**: If the well is not dry, preparation for oil production incurs a normally distributed cost (mean = $390,000, SD = $50,000).\n",
    "- **Professional Overhead**: Project team salary and benefits per well follow a triangular distribution (min = $172,000, most likely = $215,000, max = $279,500). These costs apply during Year 0 but cease if the well is dry.\n",
    "\n",
    "### Production Risk\n",
    "- **Initial Production**: The starting production rate in Year 1, following a Lognormal distribution (mean = 420 BOPD, SD = 120 BOPD), with an underlying Normal distribution (mean = 6, SD = 0.28).\n",
    "- **Decline Rate**: The annual percentage decrease in production, uniformly distributed between 15% and 32%, remaining constant for each well's lifespan.\n",
    "- A correlation coefficient of 0.64 is imposed between initial production & decline rate in the simulation.\n",
    "\n",
    "Production rates in BOPD for our model are calculated by:   \n",
    "$$\n",
    "\\text{New Rate} = (1 - \\text{Decline Rate}) \\times \\text{Previous Rate}\n",
    "$$\n",
    "Yearly production volumes in barrels of oil are approximated as:   \n",
    "$$\n",
    "\\text{Oil Volume} = \\frac{365 \\times (\\text{Rate}_{\\text{start}} + \\text{Rate}_{\\text{end}})}{2}\n",
    "$$\n",
    " \n",
    "### Revenue Risk\n",
    "- **Net Revenue Interest**: The company retains a portion of revenue after royalties, modeled as a Normal distribution (mean 75%, SD 2%) per well.\n",
    "\n",
    "### Operating Expenses\n",
    "- **Operating Costs**: Expenses for manpower and hardware are modeled as a Normal distribution with a mean of $2.25 per barrel (SD $0.30). Costs are the same for all wells in a given year but vary annually.\n",
    "- **Severance Taxes**: A fixed 4.6% tax on revenue, applied after the NRI.\n",
    "\n",
    "### Net Present Value Calculation\n",
    "NPV is computed by summing all revenues and expenses per year, discounted at a 10% WACC, and subtracting initial costs. The formula used is:\n",
    "$$\n",
    "\\text{NPV} = -\\text{NPV} + \\frac{\\text{FNR}_{\\text{year 1}} }{1 + \\text{WACC}} + \\frac{\\text{FNR}_{\\text{year 2}} }{(1 + \\text{WACC})^2} + ... + \\frac{\\text{FNR}_{\\text{year 15}} }{(1 + \\text{WACC})^{15}}\n",
    "$$"
   ]
  }
 ],
 "metadata": {
  "kernelspec": {
   "display_name": "ds",
   "language": "python",
   "name": "python3"
  },
  "language_info": {
   "codemirror_mode": {
    "name": "ipython",
    "version": 3
   },
   "file_extension": ".py",
   "mimetype": "text/x-python",
   "name": "python",
   "nbconvert_exporter": "python",
   "pygments_lexer": "ipython3",
   "version": "3.12.3"
  }
 },
 "nbformat": 4,
 "nbformat_minor": 2
}
