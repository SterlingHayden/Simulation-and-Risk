{
 "cells": [
  {
   "cell_type": "code",
   "execution_count": 22,
   "metadata": {},
   "outputs": [],
   "source": [
    "import pandas as pd\n",
    "import numpy as np\n",
    "import seaborn as sns\n",
    "import matplotlib.pyplot as plt\n",
    "import scipy.stats as stats"
   ]
  },
  {
   "cell_type": "markdown",
   "metadata": {},
   "source": [
    "## Data Prep"
   ]
  },
  {
   "cell_type": "code",
   "execution_count": 41,
   "metadata": {},
   "outputs": [
    {
     "name": "stderr",
     "output_type": "stream",
     "text": [
      "C:\\Users\\Sterling Hayden\\AppData\\Local\\Temp\\ipykernel_2772\\174545402.py:6: FutureWarning: Downcasting behavior in `replace` is deprecated and will be removed in a future version. To retain the old behavior, explicitly call `result.infer_objects(copy=False)`. To opt-in to the future behavior, set `pd.set_option('future.no_silent_downcasting', True)`\n",
      "  df.replace('.', np.nan, inplace=True)\n"
     ]
    },
    {
     "data": {
      "text/html": [
       "<div>\n",
       "<style scoped>\n",
       "    .dataframe tbody tr th:only-of-type {\n",
       "        vertical-align: middle;\n",
       "    }\n",
       "\n",
       "    .dataframe tbody tr th {\n",
       "        vertical-align: top;\n",
       "    }\n",
       "\n",
       "    .dataframe thead th {\n",
       "        text-align: right;\n",
       "    }\n",
       "</style>\n",
       "<table border=\"1\" class=\"dataframe\">\n",
       "  <thead>\n",
       "    <tr style=\"text-align: right;\">\n",
       "      <th></th>\n",
       "      <th>Date</th>\n",
       "      <th>Crude_Oil_Drill_Cost</th>\n",
       "      <th>Natural_Gas_Drill_Cost</th>\n",
       "      <th>Dry_Well_Drill_Cost</th>\n",
       "      <th>Arithmetic_Return_Crude_Oil</th>\n",
       "      <th>Arithmetic_Return_Natural_Gas</th>\n",
       "      <th>Arithmetic_Return_Dry_Well</th>\n",
       "      <th>AVG_Cost</th>\n",
       "      <th>AVG_Return</th>\n",
       "    </tr>\n",
       "  </thead>\n",
       "  <tbody>\n",
       "    <tr>\n",
       "      <th>32</th>\n",
       "      <td>1990-06-30</td>\n",
       "      <td>321.8</td>\n",
       "      <td>471.3</td>\n",
       "      <td>367.5</td>\n",
       "      <td>0.139922</td>\n",
       "      <td>0.029489</td>\n",
       "      <td>0.034046</td>\n",
       "      <td>386.866667</td>\n",
       "      <td>0.067819</td>\n",
       "    </tr>\n",
       "    <tr>\n",
       "      <th>33</th>\n",
       "      <td>1991-06-30</td>\n",
       "      <td>346.9</td>\n",
       "      <td>506.6</td>\n",
       "      <td>441.2</td>\n",
       "      <td>0.077999</td>\n",
       "      <td>0.074899</td>\n",
       "      <td>0.200544</td>\n",
       "      <td>431.566667</td>\n",
       "      <td>0.117814</td>\n",
       "    </tr>\n",
       "    <tr>\n",
       "      <th>34</th>\n",
       "      <td>1992-06-30</td>\n",
       "      <td>362.3</td>\n",
       "      <td>426.1</td>\n",
       "      <td>357.6</td>\n",
       "      <td>0.044393</td>\n",
       "      <td>-0.158902</td>\n",
       "      <td>-0.189483</td>\n",
       "      <td>382.000000</td>\n",
       "      <td>-0.101331</td>\n",
       "    </tr>\n",
       "    <tr>\n",
       "      <th>35</th>\n",
       "      <td>1993-06-30</td>\n",
       "      <td>356.6</td>\n",
       "      <td>521.2</td>\n",
       "      <td>387.7</td>\n",
       "      <td>-0.015733</td>\n",
       "      <td>0.223187</td>\n",
       "      <td>0.084172</td>\n",
       "      <td>421.833333</td>\n",
       "      <td>0.097209</td>\n",
       "    </tr>\n",
       "    <tr>\n",
       "      <th>36</th>\n",
       "      <td>1994-06-30</td>\n",
       "      <td>409.5</td>\n",
       "      <td>535.1</td>\n",
       "      <td>491.5</td>\n",
       "      <td>0.148345</td>\n",
       "      <td>0.026669</td>\n",
       "      <td>0.267733</td>\n",
       "      <td>478.700000</td>\n",
       "      <td>0.147582</td>\n",
       "    </tr>\n",
       "  </tbody>\n",
       "</table>\n",
       "</div>"
      ],
      "text/plain": [
       "         Date  Crude_Oil_Drill_Cost  Natural_Gas_Drill_Cost  \\\n",
       "32 1990-06-30                 321.8                   471.3   \n",
       "33 1991-06-30                 346.9                   506.6   \n",
       "34 1992-06-30                 362.3                   426.1   \n",
       "35 1993-06-30                 356.6                   521.2   \n",
       "36 1994-06-30                 409.5                   535.1   \n",
       "\n",
       "    Dry_Well_Drill_Cost  Arithmetic_Return_Crude_Oil  \\\n",
       "32                367.5                     0.139922   \n",
       "33                441.2                     0.077999   \n",
       "34                357.6                     0.044393   \n",
       "35                387.7                    -0.015733   \n",
       "36                491.5                     0.148345   \n",
       "\n",
       "    Arithmetic_Return_Natural_Gas  Arithmetic_Return_Dry_Well    AVG_Cost  \\\n",
       "32                       0.029489                    0.034046  386.866667   \n",
       "33                       0.074899                    0.200544  431.566667   \n",
       "34                      -0.158902                   -0.189483  382.000000   \n",
       "35                       0.223187                    0.084172  421.833333   \n",
       "36                       0.026669                    0.267733  478.700000   \n",
       "\n",
       "    AVG_Return  \n",
       "32    0.067819  \n",
       "33    0.117814  \n",
       "34   -0.101331  \n",
       "35    0.097209  \n",
       "36    0.147582  "
      ]
     },
     "execution_count": 41,
     "metadata": {},
     "output_type": "execute_result"
    }
   ],
   "source": [
    "df = pd.read_excel('Analysis_Data.xlsx', sheet_name='Drilling Cost')\n",
    "df.columns = ['Date', 'Crude_Oil_Drill_Cost', 'Natural_Gas_Drill_Cost', 'Dry_Well_Drill_Cost',\n",
    "               'Arithmetic_Return_Crude_Oil', 'Arithmetic_Return_Natural_Gas', 'Arithmetic_Return_Dry_Well']\n",
    "\n",
    "df = df.iloc[2:] # Remove top 2 rows\n",
    "df.replace('.', np.nan, inplace=True)\n",
    "\n",
    "# cast date as dt and filter\n",
    "df['Date'] = pd.to_datetime(df['Date'])\n",
    "df = df[(df['Date'].dt.year >= 1990) & (df['Date'].dt.year <= 2006)]\n",
    "\n",
    "# calculate avg costs and returns\n",
    "df['AVG_Cost'] = df.iloc[:,1:4].mean(axis=1)\n",
    "df['AVG_Return'] = df.iloc[:,4:7].mean(axis=1)\n",
    "\n",
    "df.head()"
   ]
  },
  {
   "cell_type": "markdown",
   "metadata": {},
   "source": [
    "## Checking Normality "
   ]
  },
  {
   "cell_type": "code",
   "execution_count": 45,
   "metadata": {},
   "outputs": [
    {
     "data": {
      "image/png": "[encoded data removed]",
      "text/plain": [
       "<Figure size 600x600 with 1 Axes>"
      ]
     },
     "metadata": {},
     "output_type": "display_data"
    }
   ],
   "source": [
    "# Create a Q-Q plot\n",
    "fig, ax = plt.subplots(figsize=(6, 6))  # Set figure size\n",
    "stats.probplot(df['AVG_Return'], dist=\"norm\", plot=ax)\n",
    "\n",
    "# Customize title and labels\n",
    "ax.set_title(\"Q-Q Plot of AVG_Return\")\n",
    "ax.set_xlabel(\"Theoretical Quantiles\")\n",
    "ax.set_ylabel(\"Sample Quantiles\")\n",
    "\n",
    "plt.show()\n"
   ]
  },
  {
   "cell_type": "code",
   "execution_count": 47,
   "metadata": {},
   "outputs": [
    {
     "name": "stdout",
     "output_type": "stream",
     "text": [
      "Shapiro-Wilk Test: Statistic=0.9440, p-value=0.3689\n"
     ]
    }
   ],
   "source": [
    "stat, p = stats.shapiro(df['AVG_Return'].dropna())\n",
    "print(f\"Shapiro-Wilk Test: Statistic={stat:.4f}, p-value={p:.4f}\")"
   ]
  },
  {
   "cell_type": "markdown",
   "metadata": {},
   "source": [
    "Seems like arithmetic changes from one year to the next from 2006 to 2012 **do not** follow a Normal \n",
    "distribution. Assuming that from 2006 to 2012 changes were relatively consistent in their distribution compaired to past years."
   ]
  },
  {
   "cell_type": "markdown",
   "metadata": {},
   "source": [
    "## Kernel Density  Estimate"
   ]
  },
  {
   "cell_type": "code",
   "execution_count": null,
   "metadata": {},
   "outputs": [],
   "source": []
  }
 ],
 "metadata": {
  "kernelspec": {
   "display_name": "ds",
   "language": "python",
   "name": "python3"
  },
  "language_info": {
   "codemirror_mode": {
    "name": "ipython",
    "version": 3
   },
   "file_extension": ".py",
   "mimetype": "text/x-python",
   "name": "python",
   "nbconvert_exporter": "python",
   "pygments_lexer": "ipython3",
   "version": "3.12.3"
  }
 },
 "nbformat": 4,
 "nbformat_minor": 2
}
